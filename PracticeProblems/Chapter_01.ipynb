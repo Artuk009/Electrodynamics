{
 "cells": [
  {
   "cell_type": "code",
   "execution_count": 1,
   "id": "c1cfae75-2394-47e5-b9d5-b7b10a47632c",
   "metadata": {},
   "outputs": [],
   "source": [
    "# Author: Brent Artuch\n",
    "# Date: 2024-11-11\n",
    "\n",
    "import sympy as sp\n",
    "import numpy as np\n",
    "import matplotlib.pyplot as plt"
   ]
  },
  {
   "cell_type": "markdown",
   "id": "f157e416-35de-45d2-9fb7-3ea5136334e2",
   "metadata": {},
   "source": [
    "1.2 - Is the cross product associative (i.e. $(A\\times B)\\times C=A\\times (B\\times C)$)? If not, give a counterexample.<br>\n",
    "Answer:"
   ]
  },
  {
   "cell_type": "code",
   "execution_count": 2,
   "id": "387b3c01-0a38-45d4-98a6-191723274cc3",
   "metadata": {},
   "outputs": [
    {
     "data": {
      "text/plain": [
       "(array([0, 0, 0]), array([ 0,  0, -1]), array([ True,  True, False]))"
      ]
     },
     "execution_count": 2,
     "metadata": {},
     "output_type": "execute_result"
    }
   ],
   "source": [
    "A = B = np.array([1,0,0])\n",
    "C = np.array([0,0,1])\n",
    "\n",
    "r1 = np.cross(np.cross(A,B),C)\n",
    "r2 = np.cross(A,np.cross(B,C))\n",
    "\n",
    "r1,r2,r1==r2"
   ]
  },
  {
   "cell_type": "markdown",
   "id": "3e261246-c050-4d6d-97bc-cb6da1fe9abb",
   "metadata": {},
   "source": [
    "Therefore, the cross product is not associative.$_\\square$"
   ]
  }
 ],
 "metadata": {
  "kernelspec": {
   "display_name": "electrodynamics_venv",
   "language": "python",
   "name": "electrodynamics_venv"
  },
  "language_info": {
   "codemirror_mode": {
    "name": "ipython",
    "version": 3
   },
   "file_extension": ".py",
   "mimetype": "text/x-python",
   "name": "python",
   "nbconvert_exporter": "python",
   "pygments_lexer": "ipython3",
   "version": "3.11.9"
  }
 },
 "nbformat": 4,
 "nbformat_minor": 5
}
