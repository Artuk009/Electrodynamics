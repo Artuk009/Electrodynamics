{
 "cells": [
  {
   "cell_type": "code",
   "execution_count": 1,
   "id": "6aa30998-f4e5-4d46-906b-57ebd516267d",
   "metadata": {},
   "outputs": [],
   "source": [
    "# Author: Brent Artuch\n",
    "# Date: 2024-11-08"
   ]
  },
  {
   "cell_type": "code",
   "execution_count": null,
   "id": "c0688409-7a02-457a-a98b-4e3559ccc76f",
   "metadata": {},
   "outputs": [],
   "source": []
  }
 ],
 "metadata": {
  "kernelspec": {
   "display_name": "electrodynamics_venv",
   "language": "python",
   "name": "electrodynamics_venv"
  },
  "language_info": {
   "codemirror_mode": {
    "name": "ipython",
    "version": 3
   },
   "file_extension": ".py",
   "mimetype": "text/x-python",
   "name": "python",
   "nbconvert_exporter": "python",
   "pygments_lexer": "ipython3",
   "version": "3.11.9"
  }
 },
 "nbformat": 4,
 "nbformat_minor": 5
}
